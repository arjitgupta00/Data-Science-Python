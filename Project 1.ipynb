{
 "cells": [
  {
   "cell_type": "markdown",
   "id": "892bc2bb",
   "metadata": {},
   "source": [
    "# <center>Student Portfolio</center>"
   ]
  },
  {
   "cell_type": "code",
   "execution_count": 4,
   "id": "ca970805",
   "metadata": {},
   "outputs": [
    {
     "name": "stdout",
     "output_type": "stream",
     "text": [
      "Enter student Name : Dev\n",
      "Enter student Standard and Division : 12-A\n",
      "Enter  student Roll Number : 1\n",
      "Enter student marks in English : 92\n",
      "Enter student marks in Mathematics : 93\n",
      "Enter student marks in Computer : 94\n",
      "Name = Dev\n",
      "Division = 12-A\n",
      "Roll No. = 1      \n",
      "Marks\n",
      "English : 92\tMathematics : 93\tComputer Science : 94      \n",
      "Percentage : 93.0\n"
     ]
    }
   ],
   "source": [
    "n = str(input(\"Enter student Name : \"))\n",
    "div = str(input(\"Enter student Standard and Division : \"))\n",
    "r_no = int(input(\"Enter  student Roll Number : \"))\n",
    "m_eng = int(input(\"Enter student marks in English : \"))\n",
    "m_math = int(input(\"Enter student marks in Mathematics : \"))\n",
    "m_comp = int(input(\"Enter student marks in Computer : \"))\n",
    "m_per = float(((m_eng+m_math+m_comp)/300)*100)\n",
    "print(f\"Name = {n}\\nDivision = {div}\\nRoll No. = {r_no}\\\n",
    "      \\nMarks\\nEnglish : {m_eng}\\tMathematics : {m_math}\\tComputer Science : {m_comp}\\\n",
    "      \\nPercentage : {m_per}\")\n"
   ]
  },
  {
   "cell_type": "code",
   "execution_count": null,
   "id": "fa6d9bbf",
   "metadata": {},
   "outputs": [],
   "source": []
  }
 ],
 "metadata": {
  "kernelspec": {
   "display_name": "Python 3 (ipykernel)",
   "language": "python",
   "name": "python3"
  },
  "language_info": {
   "codemirror_mode": {
    "name": "ipython",
    "version": 3
   },
   "file_extension": ".py",
   "mimetype": "text/x-python",
   "name": "python",
   "nbconvert_exporter": "python",
   "pygments_lexer": "ipython3",
   "version": "3.10.6"
  }
 },
 "nbformat": 4,
 "nbformat_minor": 5
}
