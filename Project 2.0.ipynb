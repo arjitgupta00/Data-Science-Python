{
 "cells": [
  {
   "cell_type": "markdown",
   "id": "4ef89f5c",
   "metadata": {},
   "source": [
    "# <center>Rock, Paper, Scissors</center>"
   ]
  },
  {
   "cell_type": "code",
   "execution_count": 1,
   "id": "8923b12b",
   "metadata": {},
   "outputs": [],
   "source": [
    "import random"
   ]
  },
  {
   "cell_type": "code",
   "execution_count": 2,
   "id": "ef02d3aa",
   "metadata": {
    "scrolled": true
   },
   "outputs": [
    {
     "name": "stdout",
     "output_type": "stream",
     "text": [
      "Let's play Rock, Paper and Scissors\n",
      "Choose rock, paper or scissors (R/P/S) : r\n"
     ]
    }
   ],
   "source": [
    "print (\"Let's play Rock, Paper and Scissors\")\n",
    "P = ''\n",
    "while P not in ['r','p','s']:\n",
    "    P = str(input(\"Choose rock, paper or scissors (R/P/S) : \"))[0].lower()\n",
    "    if(P not in ['r','p','s']):\n",
    "        print(\"Choose correct option\")\n",
    "cpu_options = ['r', 'p', 's']\n",
    "cpu = random.choice(cpu_options)"
   ]
  },
  {
   "cell_type": "code",
   "execution_count": 3,
   "id": "48ffb91d",
   "metadata": {},
   "outputs": [],
   "source": [
    "if(P=='r'):\n",
    "    P_choice = \"Rock\"\n",
    "elif(P=='p'):\n",
    "    P_choice = \"Paper\"\n",
    "elif(P=='s'):\n",
    "    P_choice = \"Scissor\"\n",
    "    \n",
    "if(cpu=='r'):\n",
    "    C_choice = \"Rock\"\n",
    "elif(cpu=='p'):\n",
    "    C_choice = \"Paper\"\n",
    "elif(cpu=='s'):\n",
    "    C_choice = \"Scissor\""
   ]
  },
  {
   "cell_type": "code",
   "execution_count": 4,
   "id": "aaeb5cd6",
   "metadata": {},
   "outputs": [
    {
     "name": "stdout",
     "output_type": "stream",
     "text": [
      "Player chose Rock and Computer chose Paper\n",
      "Computer wins.\n"
     ]
    }
   ],
   "source": [
    "if (P==cpu):\n",
    "    print(f\"Player chose {P_choice} and Computer chose {C_choice}\")\n",
    "    print(\"Game tied.\")\n",
    "\n",
    "elif(P=='r' and cpu == 'p'):\n",
    "    print(f\"Player chose {P_choice} and Computer chose {C_choice}\")\n",
    "    print(\"Computer wins.\")\n",
    "    \n",
    "elif(P=='r' and cpu == 's'):\n",
    "    print(f\"Player chose {P_choice} and Computer chose {C_choice}\")\n",
    "    print(\"Player wins.\")\n",
    "    \n",
    "elif(P=='p' and cpu == 's'):\n",
    "    print(f\"Player chose {P_choice} and Computer chose {C_choice}\")\n",
    "    print(\"Computer wins.\")\n",
    "    \n",
    "elif(P=='p' and cpu == 'r'):\n",
    "    print(f\"Player chose {P_choice} and Computer chose {C_choice}\")\n",
    "    print(\"Player wins.\")\n",
    "    \n",
    "elif(P=='s' and cpu == 'r'):\n",
    "    print(f\"Player chose {P_choice} and Computer chose {C_choice}\")\n",
    "    print(\"Computer wins.\")\n",
    "    \n",
    "elif(P=='s' and cpu == 'p'):\n",
    "    print(f\"Player chose {P_choice} and Computer chose {C_choice}\")\n",
    "    print(\"Player wins.\")"
   ]
  }
 ],
 "metadata": {
  "kernelspec": {
   "display_name": "Python 3 (ipykernel)",
   "language": "python",
   "name": "python3"
  },
  "language_info": {
   "codemirror_mode": {
    "name": "ipython",
    "version": 3
   },
   "file_extension": ".py",
   "mimetype": "text/x-python",
   "name": "python",
   "nbconvert_exporter": "python",
   "pygments_lexer": "ipython3",
   "version": "3.10.6"
  }
 },
 "nbformat": 4,
 "nbformat_minor": 5
}
