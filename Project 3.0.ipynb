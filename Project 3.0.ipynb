{
 "cells": [
  {
   "cell_type": "markdown",
   "id": "07c373f8",
   "metadata": {},
   "source": [
    "# <Center>Simple Table"
   ]
  },
  {
   "cell_type": "code",
   "execution_count": 1,
   "id": "4315dc7f",
   "metadata": {},
   "outputs": [],
   "source": [
    "def Table(a):\n",
    "    i = 1\n",
    "    print(f\"\\nTable of {a}:\\n\")\n",
    "    while(i<=12):\n",
    "        print(f'{a} * {i} = {a*i}')\n",
    "        i += 1 \n",
    "    "
   ]
  },
  {
   "cell_type": "code",
   "execution_count": 2,
   "id": "1603a2db",
   "metadata": {},
   "outputs": [
    {
     "name": "stdout",
     "output_type": "stream",
     "text": [
      "Multipilication Table\n",
      "\n",
      "Enter a number to print its table : 5\n",
      "\n",
      "Table of 5:\n",
      "\n",
      "5 * 1 = 5\n",
      "5 * 2 = 10\n",
      "5 * 3 = 15\n",
      "5 * 4 = 20\n",
      "5 * 5 = 25\n",
      "5 * 6 = 30\n",
      "5 * 7 = 35\n",
      "5 * 8 = 40\n",
      "5 * 9 = 45\n",
      "5 * 10 = 50\n",
      "5 * 11 = 55\n",
      "5 * 12 = 60\n"
     ]
    }
   ],
   "source": [
    "print(\"Multipilication Table\")\n",
    "a = int(input('\\nEnter a number to print its table : '))\n",
    "Table(a)"
   ]
  }
 ],
 "metadata": {
  "kernelspec": {
   "display_name": "Python 3 (ipykernel)",
   "language": "python",
   "name": "python3"
  },
  "language_info": {
   "codemirror_mode": {
    "name": "ipython",
    "version": 3
   },
   "file_extension": ".py",
   "mimetype": "text/x-python",
   "name": "python",
   "nbconvert_exporter": "python",
   "pygments_lexer": "ipython3",
   "version": "3.10.6"
  }
 },
 "nbformat": 4,
 "nbformat_minor": 5
}
