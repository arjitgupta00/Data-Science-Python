{
 "cells": [
  {
   "cell_type": "code",
   "execution_count": 1,
   "id": "07ca2026",
   "metadata": {
    "_cell_guid": "b1076dfc-b9ad-4769-8c92-a6c4dae69d19",
    "_uuid": "8f2839f25d086af736a60e9eeb907d3b93b6e0e5",
    "execution": {
     "iopub.execute_input": "2022-09-20T11:38:34.320226Z",
     "iopub.status.busy": "2022-09-20T11:38:34.319286Z",
     "iopub.status.idle": "2022-09-20T11:38:34.330361Z",
     "shell.execute_reply": "2022-09-20T11:38:34.329389Z"
    },
    "papermill": {
     "duration": 0.023757,
     "end_time": "2022-09-20T11:38:34.332655",
     "exception": false,
     "start_time": "2022-09-20T11:38:34.308898",
     "status": "completed"
    },
    "tags": []
   },
   "outputs": [],
   "source": [
    "import pandas as pd"
   ]
  },
  {
   "cell_type": "markdown",
   "id": "a0b265fa",
   "metadata": {
    "papermill": {
     "duration": 0.006986,
     "end_time": "2022-09-20T11:38:34.347084",
     "exception": false,
     "start_time": "2022-09-20T11:38:34.340098",
     "status": "completed"
    },
    "tags": []
   },
   "source": [
    "## Importing Data"
   ]
  },
  {
   "cell_type": "code",
   "execution_count": 2,
   "id": "57f864e4",
   "metadata": {
    "execution": {
     "iopub.execute_input": "2022-09-20T11:38:34.364004Z",
     "iopub.status.busy": "2022-09-20T11:38:34.362438Z",
     "iopub.status.idle": "2022-09-20T11:38:34.470262Z",
     "shell.execute_reply": "2022-09-20T11:38:34.469239Z"
    },
    "papermill": {
     "duration": 0.118299,
     "end_time": "2022-09-20T11:38:34.472566",
     "exception": false,
     "start_time": "2022-09-20T11:38:34.354267",
     "status": "completed"
    },
    "tags": []
   },
   "outputs": [],
   "source": [
    "# Importing data from the csv file\n",
    "ecom_data = pd.read_csv(\"../input/ecommerce-purchases/Ecommerce Purchases\")"
   ]
  },
  {
   "cell_type": "markdown",
   "id": "1a9e992d",
   "metadata": {
    "papermill": {
     "duration": 0.006781,
     "end_time": "2022-09-20T11:38:34.486623",
     "exception": false,
     "start_time": "2022-09-20T11:38:34.479842",
     "status": "completed"
    },
    "tags": []
   },
   "source": [
    "## Display top 10 rows of the E-commerce Purchases Data"
   ]
  },
  {
   "cell_type": "code",
   "execution_count": 3,
   "id": "0651c9de",
   "metadata": {
    "execution": {
     "iopub.execute_input": "2022-09-20T11:38:34.503179Z",
     "iopub.status.busy": "2022-09-20T11:38:34.502207Z",
     "iopub.status.idle": "2022-09-20T11:38:34.531520Z",
     "shell.execute_reply": "2022-09-20T11:38:34.530401Z"
    },
    "papermill": {
     "duration": 0.040383,
     "end_time": "2022-09-20T11:38:34.533973",
     "exception": false,
     "start_time": "2022-09-20T11:38:34.493590",
     "status": "completed"
    },
    "tags": []
   },
   "outputs": [
    {
     "data": {
      "text/html": [
       "<div>\n",
       "<style scoped>\n",
       "    .dataframe tbody tr th:only-of-type {\n",
       "        vertical-align: middle;\n",
       "    }\n",
       "\n",
       "    .dataframe tbody tr th {\n",
       "        vertical-align: top;\n",
       "    }\n",
       "\n",
       "    .dataframe thead th {\n",
       "        text-align: right;\n",
       "    }\n",
       "</style>\n",
       "<table border=\"1\" class=\"dataframe\">\n",
       "  <thead>\n",
       "    <tr style=\"text-align: right;\">\n",
       "      <th></th>\n",
       "      <th>Address</th>\n",
       "      <th>Lot</th>\n",
       "      <th>AM or PM</th>\n",
       "      <th>Browser Info</th>\n",
       "      <th>Company</th>\n",
       "      <th>Credit Card</th>\n",
       "      <th>CC Exp Date</th>\n",
       "      <th>CC Security Code</th>\n",
       "      <th>CC Provider</th>\n",
       "      <th>Email</th>\n",
       "      <th>Job</th>\n",
       "      <th>IP Address</th>\n",
       "      <th>Language</th>\n",
       "      <th>Purchase Price</th>\n",
       "    </tr>\n",
       "  </thead>\n",
       "  <tbody>\n",
       "    <tr>\n",
       "      <th>0</th>\n",
       "      <td>16629 Pace Camp Apt. 448\\nAlexisborough, NE 77...</td>\n",
       "      <td>46 in</td>\n",
       "      <td>PM</td>\n",
       "      <td>Opera/9.56.(X11; Linux x86_64; sl-SI) Presto/2...</td>\n",
       "      <td>Martinez-Herman</td>\n",
       "      <td>6011929061123406</td>\n",
       "      <td>02/20</td>\n",
       "      <td>900</td>\n",
       "      <td>JCB 16 digit</td>\n",
       "      <td>pdunlap@yahoo.com</td>\n",
       "      <td>Scientist, product/process development</td>\n",
       "      <td>149.146.147.205</td>\n",
       "      <td>el</td>\n",
       "      <td>98.14</td>\n",
       "    </tr>\n",
       "    <tr>\n",
       "      <th>1</th>\n",
       "      <td>9374 Jasmine Spurs Suite 508\\nSouth John, TN 8...</td>\n",
       "      <td>28 rn</td>\n",
       "      <td>PM</td>\n",
       "      <td>Opera/8.93.(Windows 98; Win 9x 4.90; en-US) Pr...</td>\n",
       "      <td>Fletcher, Richards and Whitaker</td>\n",
       "      <td>3337758169645356</td>\n",
       "      <td>11/18</td>\n",
       "      <td>561</td>\n",
       "      <td>Mastercard</td>\n",
       "      <td>anthony41@reed.com</td>\n",
       "      <td>Drilling engineer</td>\n",
       "      <td>15.160.41.51</td>\n",
       "      <td>fr</td>\n",
       "      <td>70.73</td>\n",
       "    </tr>\n",
       "    <tr>\n",
       "      <th>2</th>\n",
       "      <td>Unit 0065 Box 5052\\nDPO AP 27450</td>\n",
       "      <td>94 vE</td>\n",
       "      <td>PM</td>\n",
       "      <td>Mozilla/5.0 (compatible; MSIE 9.0; Windows NT ...</td>\n",
       "      <td>Simpson, Williams and Pham</td>\n",
       "      <td>675957666125</td>\n",
       "      <td>08/19</td>\n",
       "      <td>699</td>\n",
       "      <td>JCB 16 digit</td>\n",
       "      <td>amymiller@morales-harrison.com</td>\n",
       "      <td>Customer service manager</td>\n",
       "      <td>132.207.160.22</td>\n",
       "      <td>de</td>\n",
       "      <td>0.95</td>\n",
       "    </tr>\n",
       "    <tr>\n",
       "      <th>3</th>\n",
       "      <td>7780 Julia Fords\\nNew Stacy, WA 45798</td>\n",
       "      <td>36 vm</td>\n",
       "      <td>PM</td>\n",
       "      <td>Mozilla/5.0 (Macintosh; Intel Mac OS X 10_8_0 ...</td>\n",
       "      <td>Williams, Marshall and Buchanan</td>\n",
       "      <td>6011578504430710</td>\n",
       "      <td>02/24</td>\n",
       "      <td>384</td>\n",
       "      <td>Discover</td>\n",
       "      <td>brent16@olson-robinson.info</td>\n",
       "      <td>Drilling engineer</td>\n",
       "      <td>30.250.74.19</td>\n",
       "      <td>es</td>\n",
       "      <td>78.04</td>\n",
       "    </tr>\n",
       "    <tr>\n",
       "      <th>4</th>\n",
       "      <td>23012 Munoz Drive Suite 337\\nNew Cynthia, TX 5...</td>\n",
       "      <td>20 IE</td>\n",
       "      <td>AM</td>\n",
       "      <td>Opera/9.58.(X11; Linux x86_64; it-IT) Presto/2...</td>\n",
       "      <td>Brown, Watson and Andrews</td>\n",
       "      <td>6011456623207998</td>\n",
       "      <td>10/25</td>\n",
       "      <td>678</td>\n",
       "      <td>Diners Club / Carte Blanche</td>\n",
       "      <td>christopherwright@gmail.com</td>\n",
       "      <td>Fine artist</td>\n",
       "      <td>24.140.33.94</td>\n",
       "      <td>es</td>\n",
       "      <td>77.82</td>\n",
       "    </tr>\n",
       "    <tr>\n",
       "      <th>5</th>\n",
       "      <td>7502 Powell Mission Apt. 768\\nTravisland, VA 3...</td>\n",
       "      <td>21 XT</td>\n",
       "      <td>PM</td>\n",
       "      <td>Mozilla/5.0 (Macintosh; U; PPC Mac OS X 10_8_5...</td>\n",
       "      <td>Silva-Anderson</td>\n",
       "      <td>30246185196287</td>\n",
       "      <td>07/25</td>\n",
       "      <td>7169</td>\n",
       "      <td>Discover</td>\n",
       "      <td>ynguyen@gmail.com</td>\n",
       "      <td>Fish farm manager</td>\n",
       "      <td>55.96.152.147</td>\n",
       "      <td>ru</td>\n",
       "      <td>25.15</td>\n",
       "    </tr>\n",
       "    <tr>\n",
       "      <th>6</th>\n",
       "      <td>93971 Conway Causeway\\nAndersonburgh, AZ 75107</td>\n",
       "      <td>96 Xt</td>\n",
       "      <td>AM</td>\n",
       "      <td>Mozilla/5.0 (compatible; MSIE 7.0; Windows NT ...</td>\n",
       "      <td>Gibson and Sons</td>\n",
       "      <td>6011398782655569</td>\n",
       "      <td>07/24</td>\n",
       "      <td>714</td>\n",
       "      <td>VISA 16 digit</td>\n",
       "      <td>olivia04@yahoo.com</td>\n",
       "      <td>Dancer</td>\n",
       "      <td>127.252.144.18</td>\n",
       "      <td>de</td>\n",
       "      <td>88.56</td>\n",
       "    </tr>\n",
       "    <tr>\n",
       "      <th>7</th>\n",
       "      <td>260 Rachel Plains Suite 366\\nCastroberg, WV 24...</td>\n",
       "      <td>96 pG</td>\n",
       "      <td>PM</td>\n",
       "      <td>Mozilla/5.0 (X11; Linux i686) AppleWebKit/5350...</td>\n",
       "      <td>Marshall-Collins</td>\n",
       "      <td>561252141909</td>\n",
       "      <td>06/25</td>\n",
       "      <td>256</td>\n",
       "      <td>VISA 13 digit</td>\n",
       "      <td>phillip48@parks.info</td>\n",
       "      <td>Event organiser</td>\n",
       "      <td>224.247.97.150</td>\n",
       "      <td>pt</td>\n",
       "      <td>44.25</td>\n",
       "    </tr>\n",
       "    <tr>\n",
       "      <th>8</th>\n",
       "      <td>2129 Dylan Burg\\nNew Michelle, ME 28650</td>\n",
       "      <td>45 JN</td>\n",
       "      <td>PM</td>\n",
       "      <td>Mozilla/5.0 (Macintosh; U; Intel Mac OS X 10_7...</td>\n",
       "      <td>Galloway and Sons</td>\n",
       "      <td>180041795790001</td>\n",
       "      <td>04/24</td>\n",
       "      <td>899</td>\n",
       "      <td>JCB 16 digit</td>\n",
       "      <td>kdavis@rasmussen.com</td>\n",
       "      <td>Financial manager</td>\n",
       "      <td>146.234.201.229</td>\n",
       "      <td>ru</td>\n",
       "      <td>59.54</td>\n",
       "    </tr>\n",
       "    <tr>\n",
       "      <th>9</th>\n",
       "      <td>3795 Dawson Extensions\\nLake Tinafort, ID 88739</td>\n",
       "      <td>15 Ug</td>\n",
       "      <td>AM</td>\n",
       "      <td>Mozilla/5.0 (X11; Linux i686; rv:1.9.7.20) Gec...</td>\n",
       "      <td>Rivera, Buchanan and Ramirez</td>\n",
       "      <td>4396283918371</td>\n",
       "      <td>01/17</td>\n",
       "      <td>931</td>\n",
       "      <td>American Express</td>\n",
       "      <td>qcoleman@hunt-huerta.com</td>\n",
       "      <td>Forensic scientist</td>\n",
       "      <td>236.198.199.8</td>\n",
       "      <td>zh</td>\n",
       "      <td>95.63</td>\n",
       "    </tr>\n",
       "  </tbody>\n",
       "</table>\n",
       "</div>"
      ],
      "text/plain": [
       "                                             Address    Lot AM or PM  \\\n",
       "0  16629 Pace Camp Apt. 448\\nAlexisborough, NE 77...  46 in       PM   \n",
       "1  9374 Jasmine Spurs Suite 508\\nSouth John, TN 8...  28 rn       PM   \n",
       "2                   Unit 0065 Box 5052\\nDPO AP 27450  94 vE       PM   \n",
       "3              7780 Julia Fords\\nNew Stacy, WA 45798  36 vm       PM   \n",
       "4  23012 Munoz Drive Suite 337\\nNew Cynthia, TX 5...  20 IE       AM   \n",
       "5  7502 Powell Mission Apt. 768\\nTravisland, VA 3...  21 XT       PM   \n",
       "6     93971 Conway Causeway\\nAndersonburgh, AZ 75107  96 Xt       AM   \n",
       "7  260 Rachel Plains Suite 366\\nCastroberg, WV 24...  96 pG       PM   \n",
       "8            2129 Dylan Burg\\nNew Michelle, ME 28650  45 JN       PM   \n",
       "9    3795 Dawson Extensions\\nLake Tinafort, ID 88739  15 Ug       AM   \n",
       "\n",
       "                                        Browser Info  \\\n",
       "0  Opera/9.56.(X11; Linux x86_64; sl-SI) Presto/2...   \n",
       "1  Opera/8.93.(Windows 98; Win 9x 4.90; en-US) Pr...   \n",
       "2  Mozilla/5.0 (compatible; MSIE 9.0; Windows NT ...   \n",
       "3  Mozilla/5.0 (Macintosh; Intel Mac OS X 10_8_0 ...   \n",
       "4  Opera/9.58.(X11; Linux x86_64; it-IT) Presto/2...   \n",
       "5  Mozilla/5.0 (Macintosh; U; PPC Mac OS X 10_8_5...   \n",
       "6  Mozilla/5.0 (compatible; MSIE 7.0; Windows NT ...   \n",
       "7  Mozilla/5.0 (X11; Linux i686) AppleWebKit/5350...   \n",
       "8  Mozilla/5.0 (Macintosh; U; Intel Mac OS X 10_7...   \n",
       "9  Mozilla/5.0 (X11; Linux i686; rv:1.9.7.20) Gec...   \n",
       "\n",
       "                           Company       Credit Card CC Exp Date  \\\n",
       "0                  Martinez-Herman  6011929061123406       02/20   \n",
       "1  Fletcher, Richards and Whitaker  3337758169645356       11/18   \n",
       "2       Simpson, Williams and Pham      675957666125       08/19   \n",
       "3  Williams, Marshall and Buchanan  6011578504430710       02/24   \n",
       "4        Brown, Watson and Andrews  6011456623207998       10/25   \n",
       "5                   Silva-Anderson    30246185196287       07/25   \n",
       "6                  Gibson and Sons  6011398782655569       07/24   \n",
       "7                 Marshall-Collins      561252141909       06/25   \n",
       "8                Galloway and Sons   180041795790001       04/24   \n",
       "9     Rivera, Buchanan and Ramirez     4396283918371       01/17   \n",
       "\n",
       "   CC Security Code                  CC Provider  \\\n",
       "0               900                 JCB 16 digit   \n",
       "1               561                   Mastercard   \n",
       "2               699                 JCB 16 digit   \n",
       "3               384                     Discover   \n",
       "4               678  Diners Club / Carte Blanche   \n",
       "5              7169                     Discover   \n",
       "6               714                VISA 16 digit   \n",
       "7               256                VISA 13 digit   \n",
       "8               899                 JCB 16 digit   \n",
       "9               931             American Express   \n",
       "\n",
       "                            Email                                     Job  \\\n",
       "0               pdunlap@yahoo.com  Scientist, product/process development   \n",
       "1              anthony41@reed.com                       Drilling engineer   \n",
       "2  amymiller@morales-harrison.com                Customer service manager   \n",
       "3     brent16@olson-robinson.info                       Drilling engineer   \n",
       "4     christopherwright@gmail.com                             Fine artist   \n",
       "5               ynguyen@gmail.com                       Fish farm manager   \n",
       "6              olivia04@yahoo.com                                  Dancer   \n",
       "7            phillip48@parks.info                         Event organiser   \n",
       "8            kdavis@rasmussen.com                       Financial manager   \n",
       "9        qcoleman@hunt-huerta.com                      Forensic scientist   \n",
       "\n",
       "        IP Address Language  Purchase Price  \n",
       "0  149.146.147.205       el           98.14  \n",
       "1     15.160.41.51       fr           70.73  \n",
       "2   132.207.160.22       de            0.95  \n",
       "3     30.250.74.19       es           78.04  \n",
       "4     24.140.33.94       es           77.82  \n",
       "5    55.96.152.147       ru           25.15  \n",
       "6   127.252.144.18       de           88.56  \n",
       "7   224.247.97.150       pt           44.25  \n",
       "8  146.234.201.229       ru           59.54  \n",
       "9    236.198.199.8       zh           95.63  "
      ]
     },
     "execution_count": 3,
     "metadata": {},
     "output_type": "execute_result"
    }
   ],
   "source": [
    "# Using pandas head function to display top 10 rows\n",
    "ecom_data.head(10)"
   ]
  },
  {
   "cell_type": "markdown",
   "id": "6af29951",
   "metadata": {
    "papermill": {
     "duration": 0.007642,
     "end_time": "2022-09-20T11:38:34.551068",
     "exception": false,
     "start_time": "2022-09-20T11:38:34.543426",
     "status": "completed"
    },
    "tags": []
   },
   "source": [
    "## Display last 10 rows of the E-commerce Purchases Data"
   ]
  },
  {
   "cell_type": "code",
   "execution_count": 4,
   "id": "d1af2e5b",
   "metadata": {
    "execution": {
     "iopub.execute_input": "2022-09-20T11:38:34.568113Z",
     "iopub.status.busy": "2022-09-20T11:38:34.567379Z",
     "iopub.status.idle": "2022-09-20T11:38:34.588008Z",
     "shell.execute_reply": "2022-09-20T11:38:34.587074Z"
    },
    "papermill": {
     "duration": 0.031812,
     "end_time": "2022-09-20T11:38:34.590214",
     "exception": false,
     "start_time": "2022-09-20T11:38:34.558402",
     "status": "completed"
    },
    "tags": []
   },
   "outputs": [
    {
     "data": {
      "text/html": [
       "<div>\n",
       "<style scoped>\n",
       "    .dataframe tbody tr th:only-of-type {\n",
       "        vertical-align: middle;\n",
       "    }\n",
       "\n",
       "    .dataframe tbody tr th {\n",
       "        vertical-align: top;\n",
       "    }\n",
       "\n",
       "    .dataframe thead th {\n",
       "        text-align: right;\n",
       "    }\n",
       "</style>\n",
       "<table border=\"1\" class=\"dataframe\">\n",
       "  <thead>\n",
       "    <tr style=\"text-align: right;\">\n",
       "      <th></th>\n",
       "      <th>Address</th>\n",
       "      <th>Lot</th>\n",
       "      <th>AM or PM</th>\n",
       "      <th>Browser Info</th>\n",
       "      <th>Company</th>\n",
       "      <th>Credit Card</th>\n",
       "      <th>CC Exp Date</th>\n",
       "      <th>CC Security Code</th>\n",
       "      <th>CC Provider</th>\n",
       "      <th>Email</th>\n",
       "      <th>Job</th>\n",
       "      <th>IP Address</th>\n",
       "      <th>Language</th>\n",
       "      <th>Purchase Price</th>\n",
       "    </tr>\n",
       "  </thead>\n",
       "  <tbody>\n",
       "    <tr>\n",
       "      <th>9990</th>\n",
       "      <td>75731 Molly Springs\\nWest Danielle, VT 96934-5102</td>\n",
       "      <td>93 ty</td>\n",
       "      <td>PM</td>\n",
       "      <td>Mozilla/5.0 (Macintosh; Intel Mac OS X 10_7_4;...</td>\n",
       "      <td>Pace, Vazquez and Richards</td>\n",
       "      <td>869968197049750</td>\n",
       "      <td>04/24</td>\n",
       "      <td>877</td>\n",
       "      <td>JCB 15 digit</td>\n",
       "      <td>andersonmichael@sherman.biz</td>\n",
       "      <td>Early years teacher</td>\n",
       "      <td>54.170.3.185</td>\n",
       "      <td>ru</td>\n",
       "      <td>18.35</td>\n",
       "    </tr>\n",
       "    <tr>\n",
       "      <th>9991</th>\n",
       "      <td>PSC 8165, Box 8498\\nAPO AP 60327-0346</td>\n",
       "      <td>50 dA</td>\n",
       "      <td>AM</td>\n",
       "      <td>Mozilla/5.0 (compatible; MSIE 8.0; Windows NT ...</td>\n",
       "      <td>Snyder Inc</td>\n",
       "      <td>4221582137197481</td>\n",
       "      <td>02/24</td>\n",
       "      <td>969</td>\n",
       "      <td>Voyager</td>\n",
       "      <td>kking@wise-liu.com</td>\n",
       "      <td>IT sales professional</td>\n",
       "      <td>254.25.31.156</td>\n",
       "      <td>el</td>\n",
       "      <td>25.93</td>\n",
       "    </tr>\n",
       "    <tr>\n",
       "      <th>9992</th>\n",
       "      <td>885 Allen Mountains Apt. 230\\nWallhaven, LA 16995</td>\n",
       "      <td>40 vH</td>\n",
       "      <td>PM</td>\n",
       "      <td>Mozilla/5.0 (Macintosh; PPC Mac OS X 10_6_5) A...</td>\n",
       "      <td>Wells Ltd</td>\n",
       "      <td>4664825258997302</td>\n",
       "      <td>10/20</td>\n",
       "      <td>431</td>\n",
       "      <td>Discover</td>\n",
       "      <td>bberry@wright.net</td>\n",
       "      <td>Set designer</td>\n",
       "      <td>174.173.51.32</td>\n",
       "      <td>de</td>\n",
       "      <td>67.96</td>\n",
       "    </tr>\n",
       "    <tr>\n",
       "      <th>9993</th>\n",
       "      <td>7555 Larson Locks Suite 229\\nEllisburgh, MA 34...</td>\n",
       "      <td>72 jg</td>\n",
       "      <td>PM</td>\n",
       "      <td>Mozilla/5.0 (Macintosh; U; Intel Mac OS X 10_8...</td>\n",
       "      <td>Colon and Sons</td>\n",
       "      <td>30025560104631</td>\n",
       "      <td>10/25</td>\n",
       "      <td>629</td>\n",
       "      <td>Maestro</td>\n",
       "      <td>chelseawilliams@lopez.biz</td>\n",
       "      <td>Designer, exhibition/display</td>\n",
       "      <td>177.46.82.128</td>\n",
       "      <td>el</td>\n",
       "      <td>65.61</td>\n",
       "    </tr>\n",
       "    <tr>\n",
       "      <th>9994</th>\n",
       "      <td>6276 Rojas Hollow\\nLake Louis, WY 56410-7837</td>\n",
       "      <td>93 Ex</td>\n",
       "      <td>PM</td>\n",
       "      <td>Opera/9.68.(X11; Linux x86_64; sl-SI) Presto/2...</td>\n",
       "      <td>Ritter-Smith</td>\n",
       "      <td>3112186784121077</td>\n",
       "      <td>01/25</td>\n",
       "      <td>1823</td>\n",
       "      <td>Maestro</td>\n",
       "      <td>iroberts@gmail.com</td>\n",
       "      <td>Education officer, museum</td>\n",
       "      <td>242.44.112.18</td>\n",
       "      <td>zh</td>\n",
       "      <td>31.85</td>\n",
       "    </tr>\n",
       "    <tr>\n",
       "      <th>9995</th>\n",
       "      <td>966 Castaneda Locks\\nWest Juliafurt, CO 96415</td>\n",
       "      <td>92 XI</td>\n",
       "      <td>PM</td>\n",
       "      <td>Mozilla/5.0 (Windows NT 5.1) AppleWebKit/5352 ...</td>\n",
       "      <td>Randall-Sloan</td>\n",
       "      <td>342945015358701</td>\n",
       "      <td>03/22</td>\n",
       "      <td>838</td>\n",
       "      <td>JCB 15 digit</td>\n",
       "      <td>iscott@wade-garner.com</td>\n",
       "      <td>Printmaker</td>\n",
       "      <td>29.73.197.114</td>\n",
       "      <td>it</td>\n",
       "      <td>82.21</td>\n",
       "    </tr>\n",
       "    <tr>\n",
       "      <th>9996</th>\n",
       "      <td>832 Curtis Dam Suite 785\\nNorth Edwardburgh, T...</td>\n",
       "      <td>41 JY</td>\n",
       "      <td>AM</td>\n",
       "      <td>Mozilla/5.0 (compatible; MSIE 9.0; Windows NT ...</td>\n",
       "      <td>Hale, Collins and Wilson</td>\n",
       "      <td>210033169205009</td>\n",
       "      <td>07/25</td>\n",
       "      <td>207</td>\n",
       "      <td>JCB 16 digit</td>\n",
       "      <td>mary85@hotmail.com</td>\n",
       "      <td>Energy engineer</td>\n",
       "      <td>121.133.168.51</td>\n",
       "      <td>pt</td>\n",
       "      <td>25.63</td>\n",
       "    </tr>\n",
       "    <tr>\n",
       "      <th>9997</th>\n",
       "      <td>Unit 4434 Box 6343\\nDPO AE 28026-0283</td>\n",
       "      <td>74 Zh</td>\n",
       "      <td>AM</td>\n",
       "      <td>Mozilla/5.0 (Macintosh; U; Intel Mac OS X 10_7...</td>\n",
       "      <td>Anderson Ltd</td>\n",
       "      <td>6011539787356311</td>\n",
       "      <td>05/21</td>\n",
       "      <td>1</td>\n",
       "      <td>VISA 16 digit</td>\n",
       "      <td>tyler16@gmail.com</td>\n",
       "      <td>Veterinary surgeon</td>\n",
       "      <td>156.210.0.254</td>\n",
       "      <td>el</td>\n",
       "      <td>83.98</td>\n",
       "    </tr>\n",
       "    <tr>\n",
       "      <th>9998</th>\n",
       "      <td>0096 English Rest\\nRoystad, IA 12457</td>\n",
       "      <td>74 cL</td>\n",
       "      <td>PM</td>\n",
       "      <td>Mozilla/5.0 (Macintosh; Intel Mac OS X 10_8_8;...</td>\n",
       "      <td>Cook Inc</td>\n",
       "      <td>180003348082930</td>\n",
       "      <td>11/17</td>\n",
       "      <td>987</td>\n",
       "      <td>American Express</td>\n",
       "      <td>elizabethmoore@reid.net</td>\n",
       "      <td>Local government officer</td>\n",
       "      <td>55.78.26.143</td>\n",
       "      <td>es</td>\n",
       "      <td>38.84</td>\n",
       "    </tr>\n",
       "    <tr>\n",
       "      <th>9999</th>\n",
       "      <td>40674 Barrett Stravenue\\nGrimesville, WI 79682</td>\n",
       "      <td>64 Hr</td>\n",
       "      <td>AM</td>\n",
       "      <td>Mozilla/5.0 (X11; Linux i686; rv:1.9.5.20) Gec...</td>\n",
       "      <td>Greene Inc</td>\n",
       "      <td>4139972901927273</td>\n",
       "      <td>02/19</td>\n",
       "      <td>302</td>\n",
       "      <td>JCB 15 digit</td>\n",
       "      <td>rachelford@vaughn.com</td>\n",
       "      <td>Embryologist, clinical</td>\n",
       "      <td>176.119.198.199</td>\n",
       "      <td>el</td>\n",
       "      <td>67.59</td>\n",
       "    </tr>\n",
       "  </tbody>\n",
       "</table>\n",
       "</div>"
      ],
      "text/plain": [
       "                                                Address    Lot AM or PM  \\\n",
       "9990  75731 Molly Springs\\nWest Danielle, VT 96934-5102  93 ty       PM   \n",
       "9991              PSC 8165, Box 8498\\nAPO AP 60327-0346  50 dA       AM   \n",
       "9992  885 Allen Mountains Apt. 230\\nWallhaven, LA 16995  40 vH       PM   \n",
       "9993  7555 Larson Locks Suite 229\\nEllisburgh, MA 34...  72 jg       PM   \n",
       "9994       6276 Rojas Hollow\\nLake Louis, WY 56410-7837  93 Ex       PM   \n",
       "9995      966 Castaneda Locks\\nWest Juliafurt, CO 96415  92 XI       PM   \n",
       "9996  832 Curtis Dam Suite 785\\nNorth Edwardburgh, T...  41 JY       AM   \n",
       "9997              Unit 4434 Box 6343\\nDPO AE 28026-0283  74 Zh       AM   \n",
       "9998               0096 English Rest\\nRoystad, IA 12457  74 cL       PM   \n",
       "9999     40674 Barrett Stravenue\\nGrimesville, WI 79682  64 Hr       AM   \n",
       "\n",
       "                                           Browser Info  \\\n",
       "9990  Mozilla/5.0 (Macintosh; Intel Mac OS X 10_7_4;...   \n",
       "9991  Mozilla/5.0 (compatible; MSIE 8.0; Windows NT ...   \n",
       "9992  Mozilla/5.0 (Macintosh; PPC Mac OS X 10_6_5) A...   \n",
       "9993  Mozilla/5.0 (Macintosh; U; Intel Mac OS X 10_8...   \n",
       "9994  Opera/9.68.(X11; Linux x86_64; sl-SI) Presto/2...   \n",
       "9995  Mozilla/5.0 (Windows NT 5.1) AppleWebKit/5352 ...   \n",
       "9996  Mozilla/5.0 (compatible; MSIE 9.0; Windows NT ...   \n",
       "9997  Mozilla/5.0 (Macintosh; U; Intel Mac OS X 10_7...   \n",
       "9998  Mozilla/5.0 (Macintosh; Intel Mac OS X 10_8_8;...   \n",
       "9999  Mozilla/5.0 (X11; Linux i686; rv:1.9.5.20) Gec...   \n",
       "\n",
       "                         Company       Credit Card CC Exp Date  \\\n",
       "9990  Pace, Vazquez and Richards   869968197049750       04/24   \n",
       "9991                  Snyder Inc  4221582137197481       02/24   \n",
       "9992                   Wells Ltd  4664825258997302       10/20   \n",
       "9993              Colon and Sons    30025560104631       10/25   \n",
       "9994                Ritter-Smith  3112186784121077       01/25   \n",
       "9995               Randall-Sloan   342945015358701       03/22   \n",
       "9996    Hale, Collins and Wilson   210033169205009       07/25   \n",
       "9997                Anderson Ltd  6011539787356311       05/21   \n",
       "9998                    Cook Inc   180003348082930       11/17   \n",
       "9999                  Greene Inc  4139972901927273       02/19   \n",
       "\n",
       "      CC Security Code       CC Provider                        Email  \\\n",
       "9990               877      JCB 15 digit  andersonmichael@sherman.biz   \n",
       "9991               969           Voyager           kking@wise-liu.com   \n",
       "9992               431          Discover            bberry@wright.net   \n",
       "9993               629           Maestro    chelseawilliams@lopez.biz   \n",
       "9994              1823           Maestro           iroberts@gmail.com   \n",
       "9995               838      JCB 15 digit       iscott@wade-garner.com   \n",
       "9996               207      JCB 16 digit           mary85@hotmail.com   \n",
       "9997                 1     VISA 16 digit            tyler16@gmail.com   \n",
       "9998               987  American Express      elizabethmoore@reid.net   \n",
       "9999               302      JCB 15 digit        rachelford@vaughn.com   \n",
       "\n",
       "                               Job       IP Address Language  Purchase Price  \n",
       "9990           Early years teacher     54.170.3.185       ru           18.35  \n",
       "9991         IT sales professional    254.25.31.156       el           25.93  \n",
       "9992                  Set designer    174.173.51.32       de           67.96  \n",
       "9993  Designer, exhibition/display    177.46.82.128       el           65.61  \n",
       "9994     Education officer, museum    242.44.112.18       zh           31.85  \n",
       "9995                    Printmaker    29.73.197.114       it           82.21  \n",
       "9996               Energy engineer   121.133.168.51       pt           25.63  \n",
       "9997            Veterinary surgeon    156.210.0.254       el           83.98  \n",
       "9998      Local government officer     55.78.26.143       es           38.84  \n",
       "9999        Embryologist, clinical  176.119.198.199       el           67.59  "
      ]
     },
     "execution_count": 4,
     "metadata": {},
     "output_type": "execute_result"
    }
   ],
   "source": [
    "# Using pandas tail function to display top 10 rows\n",
    "ecom_data.tail(10)"
   ]
  },
  {
   "cell_type": "markdown",
   "id": "ffb7a2cf",
   "metadata": {
    "papermill": {
     "duration": 0.008142,
     "end_time": "2022-09-20T11:38:34.608439",
     "exception": false,
     "start_time": "2022-09-20T11:38:34.600297",
     "status": "completed"
    },
    "tags": []
   },
   "source": [
    "## Check the datatype of the Column 'CC Security Code'"
   ]
  },
  {
   "cell_type": "code",
   "execution_count": 5,
   "id": "e2e0f63f",
   "metadata": {
    "execution": {
     "iopub.execute_input": "2022-09-20T11:38:34.627166Z",
     "iopub.status.busy": "2022-09-20T11:38:34.626791Z",
     "iopub.status.idle": "2022-09-20T11:38:34.635699Z",
     "shell.execute_reply": "2022-09-20T11:38:34.634740Z"
    },
    "papermill": {
     "duration": 0.020842,
     "end_time": "2022-09-20T11:38:34.637935",
     "exception": false,
     "start_time": "2022-09-20T11:38:34.617093",
     "status": "completed"
    },
    "tags": []
   },
   "outputs": [
    {
     "data": {
      "text/plain": [
       "dtype('int64')"
      ]
     },
     "execution_count": 5,
     "metadata": {},
     "output_type": "execute_result"
    }
   ],
   "source": [
    "# Using pandas dtype function to display data type of the specified column\n",
    "ecom_data['CC Security Code'].dtype"
   ]
  },
  {
   "cell_type": "markdown",
   "id": "66fc0f48",
   "metadata": {
    "papermill": {
     "duration": 0.007589,
     "end_time": "2022-09-20T11:38:34.653942",
     "exception": false,
     "start_time": "2022-09-20T11:38:34.646353",
     "status": "completed"
    },
    "tags": []
   },
   "source": [
    "## Check if any column contains any null value"
   ]
  },
  {
   "cell_type": "code",
   "execution_count": 6,
   "id": "c90d40d8",
   "metadata": {
    "execution": {
     "iopub.execute_input": "2022-09-20T11:38:34.671759Z",
     "iopub.status.busy": "2022-09-20T11:38:34.670645Z",
     "iopub.status.idle": "2022-09-20T11:38:34.699074Z",
     "shell.execute_reply": "2022-09-20T11:38:34.698111Z"
    },
    "papermill": {
     "duration": 0.039432,
     "end_time": "2022-09-20T11:38:34.701189",
     "exception": false,
     "start_time": "2022-09-20T11:38:34.661757",
     "status": "completed"
    },
    "tags": []
   },
   "outputs": [
    {
     "data": {
      "text/html": [
       "<div>\n",
       "<style scoped>\n",
       "    .dataframe tbody tr th:only-of-type {\n",
       "        vertical-align: middle;\n",
       "    }\n",
       "\n",
       "    .dataframe tbody tr th {\n",
       "        vertical-align: top;\n",
       "    }\n",
       "\n",
       "    .dataframe thead th {\n",
       "        text-align: right;\n",
       "    }\n",
       "</style>\n",
       "<table border=\"1\" class=\"dataframe\">\n",
       "  <thead>\n",
       "    <tr style=\"text-align: right;\">\n",
       "      <th></th>\n",
       "      <th>Address</th>\n",
       "      <th>Lot</th>\n",
       "      <th>AM or PM</th>\n",
       "      <th>Browser Info</th>\n",
       "      <th>Company</th>\n",
       "      <th>Credit Card</th>\n",
       "      <th>CC Exp Date</th>\n",
       "      <th>CC Security Code</th>\n",
       "      <th>CC Provider</th>\n",
       "      <th>Email</th>\n",
       "      <th>Job</th>\n",
       "      <th>IP Address</th>\n",
       "      <th>Language</th>\n",
       "      <th>Purchase Price</th>\n",
       "    </tr>\n",
       "  </thead>\n",
       "  <tbody>\n",
       "    <tr>\n",
       "      <th>0</th>\n",
       "      <td>False</td>\n",
       "      <td>False</td>\n",
       "      <td>False</td>\n",
       "      <td>False</td>\n",
       "      <td>False</td>\n",
       "      <td>False</td>\n",
       "      <td>False</td>\n",
       "      <td>False</td>\n",
       "      <td>False</td>\n",
       "      <td>False</td>\n",
       "      <td>False</td>\n",
       "      <td>False</td>\n",
       "      <td>False</td>\n",
       "      <td>False</td>\n",
       "    </tr>\n",
       "    <tr>\n",
       "      <th>1</th>\n",
       "      <td>False</td>\n",
       "      <td>False</td>\n",
       "      <td>False</td>\n",
       "      <td>False</td>\n",
       "      <td>False</td>\n",
       "      <td>False</td>\n",
       "      <td>False</td>\n",
       "      <td>False</td>\n",
       "      <td>False</td>\n",
       "      <td>False</td>\n",
       "      <td>False</td>\n",
       "      <td>False</td>\n",
       "      <td>False</td>\n",
       "      <td>False</td>\n",
       "    </tr>\n",
       "    <tr>\n",
       "      <th>2</th>\n",
       "      <td>False</td>\n",
       "      <td>False</td>\n",
       "      <td>False</td>\n",
       "      <td>False</td>\n",
       "      <td>False</td>\n",
       "      <td>False</td>\n",
       "      <td>False</td>\n",
       "      <td>False</td>\n",
       "      <td>False</td>\n",
       "      <td>False</td>\n",
       "      <td>False</td>\n",
       "      <td>False</td>\n",
       "      <td>False</td>\n",
       "      <td>False</td>\n",
       "    </tr>\n",
       "    <tr>\n",
       "      <th>3</th>\n",
       "      <td>False</td>\n",
       "      <td>False</td>\n",
       "      <td>False</td>\n",
       "      <td>False</td>\n",
       "      <td>False</td>\n",
       "      <td>False</td>\n",
       "      <td>False</td>\n",
       "      <td>False</td>\n",
       "      <td>False</td>\n",
       "      <td>False</td>\n",
       "      <td>False</td>\n",
       "      <td>False</td>\n",
       "      <td>False</td>\n",
       "      <td>False</td>\n",
       "    </tr>\n",
       "    <tr>\n",
       "      <th>4</th>\n",
       "      <td>False</td>\n",
       "      <td>False</td>\n",
       "      <td>False</td>\n",
       "      <td>False</td>\n",
       "      <td>False</td>\n",
       "      <td>False</td>\n",
       "      <td>False</td>\n",
       "      <td>False</td>\n",
       "      <td>False</td>\n",
       "      <td>False</td>\n",
       "      <td>False</td>\n",
       "      <td>False</td>\n",
       "      <td>False</td>\n",
       "      <td>False</td>\n",
       "    </tr>\n",
       "    <tr>\n",
       "      <th>...</th>\n",
       "      <td>...</td>\n",
       "      <td>...</td>\n",
       "      <td>...</td>\n",
       "      <td>...</td>\n",
       "      <td>...</td>\n",
       "      <td>...</td>\n",
       "      <td>...</td>\n",
       "      <td>...</td>\n",
       "      <td>...</td>\n",
       "      <td>...</td>\n",
       "      <td>...</td>\n",
       "      <td>...</td>\n",
       "      <td>...</td>\n",
       "      <td>...</td>\n",
       "    </tr>\n",
       "    <tr>\n",
       "      <th>9995</th>\n",
       "      <td>False</td>\n",
       "      <td>False</td>\n",
       "      <td>False</td>\n",
       "      <td>False</td>\n",
       "      <td>False</td>\n",
       "      <td>False</td>\n",
       "      <td>False</td>\n",
       "      <td>False</td>\n",
       "      <td>False</td>\n",
       "      <td>False</td>\n",
       "      <td>False</td>\n",
       "      <td>False</td>\n",
       "      <td>False</td>\n",
       "      <td>False</td>\n",
       "    </tr>\n",
       "    <tr>\n",
       "      <th>9996</th>\n",
       "      <td>False</td>\n",
       "      <td>False</td>\n",
       "      <td>False</td>\n",
       "      <td>False</td>\n",
       "      <td>False</td>\n",
       "      <td>False</td>\n",
       "      <td>False</td>\n",
       "      <td>False</td>\n",
       "      <td>False</td>\n",
       "      <td>False</td>\n",
       "      <td>False</td>\n",
       "      <td>False</td>\n",
       "      <td>False</td>\n",
       "      <td>False</td>\n",
       "    </tr>\n",
       "    <tr>\n",
       "      <th>9997</th>\n",
       "      <td>False</td>\n",
       "      <td>False</td>\n",
       "      <td>False</td>\n",
       "      <td>False</td>\n",
       "      <td>False</td>\n",
       "      <td>False</td>\n",
       "      <td>False</td>\n",
       "      <td>False</td>\n",
       "      <td>False</td>\n",
       "      <td>False</td>\n",
       "      <td>False</td>\n",
       "      <td>False</td>\n",
       "      <td>False</td>\n",
       "      <td>False</td>\n",
       "    </tr>\n",
       "    <tr>\n",
       "      <th>9998</th>\n",
       "      <td>False</td>\n",
       "      <td>False</td>\n",
       "      <td>False</td>\n",
       "      <td>False</td>\n",
       "      <td>False</td>\n",
       "      <td>False</td>\n",
       "      <td>False</td>\n",
       "      <td>False</td>\n",
       "      <td>False</td>\n",
       "      <td>False</td>\n",
       "      <td>False</td>\n",
       "      <td>False</td>\n",
       "      <td>False</td>\n",
       "      <td>False</td>\n",
       "    </tr>\n",
       "    <tr>\n",
       "      <th>9999</th>\n",
       "      <td>False</td>\n",
       "      <td>False</td>\n",
       "      <td>False</td>\n",
       "      <td>False</td>\n",
       "      <td>False</td>\n",
       "      <td>False</td>\n",
       "      <td>False</td>\n",
       "      <td>False</td>\n",
       "      <td>False</td>\n",
       "      <td>False</td>\n",
       "      <td>False</td>\n",
       "      <td>False</td>\n",
       "      <td>False</td>\n",
       "      <td>False</td>\n",
       "    </tr>\n",
       "  </tbody>\n",
       "</table>\n",
       "<p>10000 rows × 14 columns</p>\n",
       "</div>"
      ],
      "text/plain": [
       "      Address    Lot  AM or PM  Browser Info  Company  Credit Card  \\\n",
       "0       False  False     False         False    False        False   \n",
       "1       False  False     False         False    False        False   \n",
       "2       False  False     False         False    False        False   \n",
       "3       False  False     False         False    False        False   \n",
       "4       False  False     False         False    False        False   \n",
       "...       ...    ...       ...           ...      ...          ...   \n",
       "9995    False  False     False         False    False        False   \n",
       "9996    False  False     False         False    False        False   \n",
       "9997    False  False     False         False    False        False   \n",
       "9998    False  False     False         False    False        False   \n",
       "9999    False  False     False         False    False        False   \n",
       "\n",
       "      CC Exp Date  CC Security Code  CC Provider  Email    Job  IP Address  \\\n",
       "0           False             False        False  False  False       False   \n",
       "1           False             False        False  False  False       False   \n",
       "2           False             False        False  False  False       False   \n",
       "3           False             False        False  False  False       False   \n",
       "4           False             False        False  False  False       False   \n",
       "...           ...               ...          ...    ...    ...         ...   \n",
       "9995        False             False        False  False  False       False   \n",
       "9996        False             False        False  False  False       False   \n",
       "9997        False             False        False  False  False       False   \n",
       "9998        False             False        False  False  False       False   \n",
       "9999        False             False        False  False  False       False   \n",
       "\n",
       "      Language  Purchase Price  \n",
       "0        False           False  \n",
       "1        False           False  \n",
       "2        False           False  \n",
       "3        False           False  \n",
       "4        False           False  \n",
       "...        ...             ...  \n",
       "9995     False           False  \n",
       "9996     False           False  \n",
       "9997     False           False  \n",
       "9998     False           False  \n",
       "9999     False           False  \n",
       "\n",
       "[10000 rows x 14 columns]"
      ]
     },
     "execution_count": 6,
     "metadata": {},
     "output_type": "execute_result"
    }
   ],
   "source": [
    "# First we call the isnull function\n",
    "ecom_data.isnull()"
   ]
  },
  {
   "cell_type": "code",
   "execution_count": 7,
   "id": "5c052e28",
   "metadata": {
    "execution": {
     "iopub.execute_input": "2022-09-20T11:38:34.720470Z",
     "iopub.status.busy": "2022-09-20T11:38:34.719732Z",
     "iopub.status.idle": "2022-09-20T11:38:34.733879Z",
     "shell.execute_reply": "2022-09-20T11:38:34.732762Z"
    },
    "papermill": {
     "duration": 0.026082,
     "end_time": "2022-09-20T11:38:34.735937",
     "exception": false,
     "start_time": "2022-09-20T11:38:34.709855",
     "status": "completed"
    },
    "tags": []
   },
   "outputs": [
    {
     "data": {
      "text/plain": [
       "Address             0\n",
       "Lot                 0\n",
       "AM or PM            0\n",
       "Browser Info        0\n",
       "Company             0\n",
       "Credit Card         0\n",
       "CC Exp Date         0\n",
       "CC Security Code    0\n",
       "CC Provider         0\n",
       "Email               0\n",
       "Job                 0\n",
       "IP Address          0\n",
       "Language            0\n",
       "Purchase Price      0\n",
       "dtype: int64"
      ]
     },
     "execution_count": 7,
     "metadata": {},
     "output_type": "execute_result"
    }
   ],
   "source": [
    "# Since we have a large dataset we can check for the sum of null values in every column\n",
    "ecom_data.isnull().sum()"
   ]
  },
  {
   "cell_type": "markdown",
   "id": "63ce51fd",
   "metadata": {
    "papermill": {
     "duration": 0.011251,
     "end_time": "2022-09-20T11:38:34.755810",
     "exception": false,
     "start_time": "2022-09-20T11:38:34.744559",
     "status": "completed"
    },
    "tags": []
   },
   "source": [
    "## Check the number of rows and columns in our dataset"
   ]
  },
  {
   "cell_type": "code",
   "execution_count": 8,
   "id": "ba8cf492",
   "metadata": {
    "execution": {
     "iopub.execute_input": "2022-09-20T11:38:34.774298Z",
     "iopub.status.busy": "2022-09-20T11:38:34.773925Z",
     "iopub.status.idle": "2022-09-20T11:38:34.779473Z",
     "shell.execute_reply": "2022-09-20T11:38:34.778468Z"
    },
    "papermill": {
     "duration": 0.017876,
     "end_time": "2022-09-20T11:38:34.782141",
     "exception": false,
     "start_time": "2022-09-20T11:38:34.764265",
     "status": "completed"
    },
    "tags": []
   },
   "outputs": [
    {
     "name": "stdout",
     "output_type": "stream",
     "text": [
      "No. of rows : 10000\n",
      "No. of columns : 14\n",
      "No. of Rows x Columns : (10000, 14)\n"
     ]
    }
   ],
   "source": [
    "# We can use the len function provided by python or the pandas' shape function\n",
    "print(f'No. of rows : {len(ecom_data)}')\n",
    "print(f'No. of columns : {len(ecom_data.columns)}')\n",
    "print(f'No. of Rows x Columns : {ecom_data.shape}')"
   ]
  },
  {
   "cell_type": "code",
   "execution_count": 9,
   "id": "79622f79",
   "metadata": {
    "execution": {
     "iopub.execute_input": "2022-09-20T11:38:34.801555Z",
     "iopub.status.busy": "2022-09-20T11:38:34.800640Z",
     "iopub.status.idle": "2022-09-20T11:38:34.826731Z",
     "shell.execute_reply": "2022-09-20T11:38:34.824374Z"
    },
    "papermill": {
     "duration": 0.039729,
     "end_time": "2022-09-20T11:38:34.830324",
     "exception": false,
     "start_time": "2022-09-20T11:38:34.790595",
     "status": "completed"
    },
    "tags": []
   },
   "outputs": [
    {
     "name": "stdout",
     "output_type": "stream",
     "text": [
      "<class 'pandas.core.frame.DataFrame'>\n",
      "RangeIndex: 10000 entries, 0 to 9999\n",
      "Data columns (total 14 columns):\n",
      " #   Column            Non-Null Count  Dtype  \n",
      "---  ------            --------------  -----  \n",
      " 0   Address           10000 non-null  object \n",
      " 1   Lot               10000 non-null  object \n",
      " 2   AM or PM          10000 non-null  object \n",
      " 3   Browser Info      10000 non-null  object \n",
      " 4   Company           10000 non-null  object \n",
      " 5   Credit Card       10000 non-null  int64  \n",
      " 6   CC Exp Date       10000 non-null  object \n",
      " 7   CC Security Code  10000 non-null  int64  \n",
      " 8   CC Provider       10000 non-null  object \n",
      " 9   Email             10000 non-null  object \n",
      " 10  Job               10000 non-null  object \n",
      " 11  IP Address        10000 non-null  object \n",
      " 12  Language          10000 non-null  object \n",
      " 13  Purchase Price    10000 non-null  float64\n",
      "dtypes: float64(1), int64(2), object(11)\n",
      "memory usage: 1.1+ MB\n"
     ]
    }
   ],
   "source": [
    "# We can also use pandas' info function to check for null values \n",
    "# and find rows and columns of data\n",
    "ecom_data.info()\n"
   ]
  },
  {
   "cell_type": "markdown",
   "id": "8a889b42",
   "metadata": {
    "papermill": {
     "duration": 0.008793,
     "end_time": "2022-09-20T11:38:34.848308",
     "exception": false,
     "start_time": "2022-09-20T11:38:34.839515",
     "status": "completed"
    },
    "tags": []
   },
   "source": [
    "## Check the highest Purchase Price"
   ]
  },
  {
   "cell_type": "code",
   "execution_count": 10,
   "id": "4bc35896",
   "metadata": {
    "execution": {
     "iopub.execute_input": "2022-09-20T11:38:34.869507Z",
     "iopub.status.busy": "2022-09-20T11:38:34.867455Z",
     "iopub.status.idle": "2022-09-20T11:38:34.874995Z",
     "shell.execute_reply": "2022-09-20T11:38:34.873580Z"
    },
    "papermill": {
     "duration": 0.019953,
     "end_time": "2022-09-20T11:38:34.877158",
     "exception": false,
     "start_time": "2022-09-20T11:38:34.857205",
     "status": "completed"
    },
    "tags": []
   },
   "outputs": [
    {
     "name": "stdout",
     "output_type": "stream",
     "text": [
      "Highest purchase price is : 99.99\n"
     ]
    }
   ],
   "source": [
    "# Using max function on the Purchase Price column\n",
    "print(f'Highest purchase price is : {ecom_data[\"Purchase Price\"].max()}')"
   ]
  },
  {
   "cell_type": "markdown",
   "id": "6191de96",
   "metadata": {
    "papermill": {
     "duration": 0.008351,
     "end_time": "2022-09-20T11:38:34.894469",
     "exception": false,
     "start_time": "2022-09-20T11:38:34.886118",
     "status": "completed"
    },
    "tags": []
   },
   "source": [
    "## Check the Email of the Lowest Purchase Price "
   ]
  },
  {
   "cell_type": "code",
   "execution_count": 11,
   "id": "03fc0010",
   "metadata": {
    "execution": {
     "iopub.execute_input": "2022-09-20T11:38:34.914141Z",
     "iopub.status.busy": "2022-09-20T11:38:34.913118Z",
     "iopub.status.idle": "2022-09-20T11:38:34.927008Z",
     "shell.execute_reply": "2022-09-20T11:38:34.925178Z"
    },
    "papermill": {
     "duration": 0.026595,
     "end_time": "2022-09-20T11:38:34.929964",
     "exception": false,
     "start_time": "2022-09-20T11:38:34.903369",
     "status": "completed"
    },
    "tags": []
   },
   "outputs": [
    {
     "name": "stdout",
     "output_type": "stream",
     "text": [
      "Lowest purchase price and email is : \n",
      "0.0,aabbott@hotmail.com\n"
     ]
    }
   ],
   "source": [
    "# Using min function on the Purchase Price column\n",
    "print(f'Lowest purchase price and email is : \\n{ecom_data[[\"Purchase Price\",\"Email\"]].min()[0]},\\\n",
    "{ecom_data[[\"Purchase Price\",\"Email\"]].min()[1]}')"
   ]
  },
  {
   "cell_type": "markdown",
   "id": "f9ea2c3e",
   "metadata": {
    "execution": {
     "iopub.execute_input": "2022-09-20T09:27:35.190330Z",
     "iopub.status.busy": "2022-09-20T09:27:35.189972Z",
     "iopub.status.idle": "2022-09-20T09:27:35.201577Z",
     "shell.execute_reply": "2022-09-20T09:27:35.200421Z",
     "shell.execute_reply.started": "2022-09-20T09:27:35.190298Z"
    },
    "papermill": {
     "duration": 0.008277,
     "end_time": "2022-09-20T11:38:34.947998",
     "exception": false,
     "start_time": "2022-09-20T11:38:34.939721",
     "status": "completed"
    },
    "tags": []
   },
   "source": [
    "## Check average Purchase Price"
   ]
  },
  {
   "cell_type": "code",
   "execution_count": 12,
   "id": "4919d2c0",
   "metadata": {
    "execution": {
     "iopub.execute_input": "2022-09-20T11:38:34.967586Z",
     "iopub.status.busy": "2022-09-20T11:38:34.966533Z",
     "iopub.status.idle": "2022-09-20T11:38:34.973538Z",
     "shell.execute_reply": "2022-09-20T11:38:34.972093Z"
    },
    "papermill": {
     "duration": 0.019291,
     "end_time": "2022-09-20T11:38:34.975846",
     "exception": false,
     "start_time": "2022-09-20T11:38:34.956555",
     "status": "completed"
    },
    "tags": []
   },
   "outputs": [
    {
     "name": "stdout",
     "output_type": "stream",
     "text": [
      "Average Purchase Price : 50.35\n"
     ]
    }
   ],
   "source": [
    "# Using mean function two print average purchase price upto two decimal point\n",
    "print(f\"Average Purchase Price : {ecom_data['Purchase Price'].mean():.2f}\")"
   ]
  },
  {
   "cell_type": "markdown",
   "id": "3b44dab0",
   "metadata": {
    "papermill": {
     "duration": 0.008233,
     "end_time": "2022-09-20T11:38:34.993261",
     "exception": false,
     "start_time": "2022-09-20T11:38:34.985028",
     "status": "completed"
    },
    "tags": []
   },
   "source": [
    "## Check number of customers having Spanish as their primary language"
   ]
  },
  {
   "cell_type": "code",
   "execution_count": 13,
   "id": "722e4809",
   "metadata": {
    "execution": {
     "iopub.execute_input": "2022-09-20T11:38:35.012339Z",
     "iopub.status.busy": "2022-09-20T11:38:35.011345Z",
     "iopub.status.idle": "2022-09-20T11:38:35.021903Z",
     "shell.execute_reply": "2022-09-20T11:38:35.020850Z"
    },
    "papermill": {
     "duration": 0.022435,
     "end_time": "2022-09-20T11:38:35.024177",
     "exception": false,
     "start_time": "2022-09-20T11:38:35.001742",
     "status": "completed"
    },
    "tags": []
   },
   "outputs": [
    {
     "name": "stdout",
     "output_type": "stream",
     "text": [
      "Number of customers haing Spanish (Espanol) as their primary language\n"
     ]
    },
    {
     "data": {
      "text/plain": [
       "1095"
      ]
     },
     "execution_count": 13,
     "metadata": {},
     "output_type": "execute_result"
    }
   ],
   "source": [
    "# Using len function to check length of column having only esapnol as their language\n",
    "print(\"Number of customers haing Spanish (Espanol) as their primary language\")\n",
    "len(ecom_data[ecom_data['Language'] == 'es'])\n"
   ]
  },
  {
   "cell_type": "markdown",
   "id": "fa317182",
   "metadata": {
    "papermill": {
     "duration": 0.008597,
     "end_time": "2022-09-20T11:38:35.041828",
     "exception": false,
     "start_time": "2022-09-20T11:38:35.033231",
     "status": "completed"
    },
    "tags": []
   },
   "source": [
    "## Check number of customers that are any kind of engineer"
   ]
  },
  {
   "cell_type": "code",
   "execution_count": 14,
   "id": "c1cbea53",
   "metadata": {
    "execution": {
     "iopub.execute_input": "2022-09-20T11:38:35.061545Z",
     "iopub.status.busy": "2022-09-20T11:38:35.060907Z",
     "iopub.status.idle": "2022-09-20T11:38:35.078670Z",
     "shell.execute_reply": "2022-09-20T11:38:35.077247Z"
    },
    "papermill": {
     "duration": 0.030584,
     "end_time": "2022-09-20T11:38:35.081467",
     "exception": false,
     "start_time": "2022-09-20T11:38:35.050883",
     "status": "completed"
    },
    "tags": []
   },
   "outputs": [
    {
     "name": "stdout",
     "output_type": "stream",
     "text": [
      "Number of customers that are any kind of engineer : \n"
     ]
    },
    {
     "data": {
      "text/plain": [
       "984"
      ]
     },
     "execution_count": 14,
     "metadata": {},
     "output_type": "execute_result"
    }
   ],
   "source": [
    "# Using contains function to check if their job contains engineer position\n",
    "print(\"Number of customers that are any kind of engineer : \")\n",
    "len(ecom_data[ecom_data['Job'].str.contains('engineer',case = False)])"
   ]
  },
  {
   "cell_type": "markdown",
   "id": "48f76f7d",
   "metadata": {
    "execution": {
     "iopub.execute_input": "2022-09-20T09:45:33.526495Z",
     "iopub.status.busy": "2022-09-20T09:45:33.526122Z",
     "iopub.status.idle": "2022-09-20T09:45:33.543430Z",
     "shell.execute_reply": "2022-09-20T09:45:33.542617Z",
     "shell.execute_reply.started": "2022-09-20T09:45:33.526463Z"
    },
    "papermill": {
     "duration": 0.008657,
     "end_time": "2022-09-20T11:38:35.099287",
     "exception": false,
     "start_time": "2022-09-20T11:38:35.090630",
     "status": "completed"
    },
    "tags": []
   },
   "source": [
    "## What is the Email address of the person having IP Address: 24.140.33.94"
   ]
  },
  {
   "cell_type": "code",
   "execution_count": 15,
   "id": "7ebde272",
   "metadata": {
    "execution": {
     "iopub.execute_input": "2022-09-20T11:38:35.119222Z",
     "iopub.status.busy": "2022-09-20T11:38:35.118840Z",
     "iopub.status.idle": "2022-09-20T11:38:35.127211Z",
     "shell.execute_reply": "2022-09-20T11:38:35.126061Z"
    },
    "papermill": {
     "duration": 0.022727,
     "end_time": "2022-09-20T11:38:35.131304",
     "exception": false,
     "start_time": "2022-09-20T11:38:35.108577",
     "status": "completed"
    },
    "tags": []
   },
   "outputs": [
    {
     "name": "stdout",
     "output_type": "stream",
     "text": [
      "Email with IP Address 24.140.33.94 : christopherwright@gmail.com\n"
     ]
    }
   ],
   "source": [
    "# Using the logical operation and then printing out the email of the \n",
    "# User having stated IP Address\n",
    "print(f\"Email with IP Address 24.140.33.94 : \\\n",
    "{ecom_data[ecom_data['IP Address'] == '24.140.33.94']['Email'].to_string(index= False)}\")"
   ]
  },
  {
   "cell_type": "markdown",
   "id": "b2da7305",
   "metadata": {
    "execution": {
     "iopub.execute_input": "2022-09-20T09:51:56.120758Z",
     "iopub.status.busy": "2022-09-20T09:51:56.119760Z",
     "iopub.status.idle": "2022-09-20T09:51:56.127469Z",
     "shell.execute_reply": "2022-09-20T09:51:56.126542Z",
     "shell.execute_reply.started": "2022-09-20T09:51:56.120717Z"
    },
    "papermill": {
     "duration": 0.008723,
     "end_time": "2022-09-20T11:38:35.149058",
     "exception": false,
     "start_time": "2022-09-20T11:38:35.140335",
     "status": "completed"
    },
    "tags": []
   },
   "source": [
    "## How many people have Mastercard as thier credit card provider and made a purchase above 50"
   ]
  },
  {
   "cell_type": "code",
   "execution_count": 16,
   "id": "8e40fa4f",
   "metadata": {
    "execution": {
     "iopub.execute_input": "2022-09-20T11:38:35.169821Z",
     "iopub.status.busy": "2022-09-20T11:38:35.169427Z",
     "iopub.status.idle": "2022-09-20T11:38:35.179678Z",
     "shell.execute_reply": "2022-09-20T11:38:35.178713Z"
    },
    "papermill": {
     "duration": 0.023537,
     "end_time": "2022-09-20T11:38:35.181705",
     "exception": false,
     "start_time": "2022-09-20T11:38:35.158168",
     "status": "completed"
    },
    "tags": []
   },
   "outputs": [
    {
     "name": "stdout",
     "output_type": "stream",
     "text": [
      "No. of people having Mastercard as thier credit card provider and made a purchase above 50 : \n"
     ]
    },
    {
     "data": {
      "text/plain": [
       "405"
      ]
     },
     "execution_count": 16,
     "metadata": {},
     "output_type": "execute_result"
    }
   ],
   "source": [
    "print(\"No. of people having Mastercard as thier credit card provider and made a purchase above 50 : \")\n",
    "len(ecom_data[(ecom_data['CC Provider']=='Mastercard') & (ecom_data['Purchase Price'] > 50)])"
   ]
  },
  {
   "cell_type": "markdown",
   "id": "8a98e6ba",
   "metadata": {
    "papermill": {
     "duration": 0.00888,
     "end_time": "2022-09-20T11:38:35.199880",
     "exception": false,
     "start_time": "2022-09-20T11:38:35.191000",
     "status": "completed"
    },
    "tags": []
   },
   "source": [
    "## Find the Email of the person with credit card number: 869968197049750"
   ]
  },
  {
   "cell_type": "code",
   "execution_count": 17,
   "id": "94548ad0",
   "metadata": {
    "execution": {
     "iopub.execute_input": "2022-09-20T11:38:35.220499Z",
     "iopub.status.busy": "2022-09-20T11:38:35.219509Z",
     "iopub.status.idle": "2022-09-20T11:38:35.228073Z",
     "shell.execute_reply": "2022-09-20T11:38:35.226475Z"
    },
    "papermill": {
     "duration": 0.02156,
     "end_time": "2022-09-20T11:38:35.230713",
     "exception": false,
     "start_time": "2022-09-20T11:38:35.209153",
     "status": "completed"
    },
    "tags": []
   },
   "outputs": [
    {
     "name": "stdout",
     "output_type": "stream",
     "text": [
      "Email of the person with credit card number '869968197049750' is :\n",
      "andersonmichael@sherman.biz\n"
     ]
    }
   ],
   "source": [
    "print(\"Email of the person with credit card number '869968197049750' is :\")\n",
    "print(ecom_data[ecom_data['Credit Card'] == 869968197049750]['Email'].to_string(index=False))"
   ]
  },
  {
   "cell_type": "markdown",
   "id": "6f1cbdaa",
   "metadata": {
    "execution": {
     "iopub.execute_input": "2022-09-20T10:03:22.921840Z",
     "iopub.status.busy": "2022-09-20T10:03:22.921443Z",
     "iopub.status.idle": "2022-09-20T10:03:22.928855Z",
     "shell.execute_reply": "2022-09-20T10:03:22.927910Z",
     "shell.execute_reply.started": "2022-09-20T10:03:22.921807Z"
    },
    "papermill": {
     "duration": 0.00894,
     "end_time": "2022-09-20T11:38:35.249418",
     "exception": false,
     "start_time": "2022-09-20T11:38:35.240478",
     "status": "completed"
    },
    "tags": []
   },
   "source": [
    "## Find how many people use credit cards during the Morning time and Night time"
   ]
  },
  {
   "cell_type": "code",
   "execution_count": 18,
   "id": "0554ed0a",
   "metadata": {
    "execution": {
     "iopub.execute_input": "2022-09-20T11:38:35.270234Z",
     "iopub.status.busy": "2022-09-20T11:38:35.269287Z",
     "iopub.status.idle": "2022-09-20T11:38:35.281865Z",
     "shell.execute_reply": "2022-09-20T11:38:35.280699Z"
    },
    "papermill": {
     "duration": 0.025982,
     "end_time": "2022-09-20T11:38:35.284527",
     "exception": false,
     "start_time": "2022-09-20T11:38:35.258545",
     "status": "completed"
    },
    "tags": []
   },
   "outputs": [
    {
     "name": "stdout",
     "output_type": "stream",
     "text": [
      "No. of people using credit card during the morning time is :\n",
      "4932\n",
      "No. of people using credit card during the night time is :\n",
      "5068\n"
     ]
    }
   ],
   "source": [
    "print(\"No. of people using credit card during the morning time is :\")\n",
    "print(len(ecom_data[ecom_data['AM or PM']=='AM']))\n",
    "print(\"No. of people using credit card during the night time is :\")\n",
    "print(len(ecom_data[ecom_data['AM or PM']=='PM']))"
   ]
  },
  {
   "cell_type": "markdown",
   "id": "a32c3678",
   "metadata": {
    "papermill": {
     "duration": 0.008924,
     "end_time": "2022-09-20T11:38:35.303201",
     "exception": false,
     "start_time": "2022-09-20T11:38:35.294277",
     "status": "completed"
    },
    "tags": []
   },
   "source": [
    "## Number of people that are having a credit card that will expire in 2020. Also find their Email"
   ]
  },
  {
   "cell_type": "code",
   "execution_count": 19,
   "id": "fc407c8b",
   "metadata": {
    "execution": {
     "iopub.execute_input": "2022-09-20T11:38:35.323592Z",
     "iopub.status.busy": "2022-09-20T11:38:35.322917Z",
     "iopub.status.idle": "2022-09-20T11:38:35.332472Z",
     "shell.execute_reply": "2022-09-20T11:38:35.331470Z"
    },
    "papermill": {
     "duration": 0.022292,
     "end_time": "2022-09-20T11:38:35.334598",
     "exception": false,
     "start_time": "2022-09-20T11:38:35.312306",
     "status": "completed"
    },
    "tags": []
   },
   "outputs": [],
   "source": [
    "# Using apply function to use lambda function on panda dataframe\n",
    "df_Cexp20 = ecom_data[ecom_data['CC Exp Date'].apply(lambda x: x[3:] == '20')]"
   ]
  },
  {
   "cell_type": "code",
   "execution_count": 20,
   "id": "0d89993b",
   "metadata": {
    "execution": {
     "iopub.execute_input": "2022-09-20T11:38:35.355314Z",
     "iopub.status.busy": "2022-09-20T11:38:35.354496Z",
     "iopub.status.idle": "2022-09-20T11:38:35.363801Z",
     "shell.execute_reply": "2022-09-20T11:38:35.362190Z"
    },
    "papermill": {
     "duration": 0.022348,
     "end_time": "2022-09-20T11:38:35.366284",
     "exception": false,
     "start_time": "2022-09-20T11:38:35.343936",
     "status": "completed"
    },
    "tags": []
   },
   "outputs": [
    {
     "name": "stdout",
     "output_type": "stream",
     "text": [
      "Number of people that are having a credit card that will expire in 2020\n",
      "988\n",
      "Email of people that are having a credit card that will expire in 2020\n",
      "0                  pdunlap@yahoo.com\n",
      "19              ruiznicole@gmail.com\n",
      "32              shane21@atkinson.com\n",
      "36          saundersernest@walsh.com\n",
      "38        djennings@boyd-english.org\n",
      "                    ...             \n",
      "9883              lisa25@hotmail.com\n",
      "9901               james32@gmail.com\n",
      "9911    hensonlindsay@graves-fox.com\n",
      "9957          latashaochoa@gmail.com\n",
      "9992               bberry@wright.net\n",
      "Name: Email, Length: 988, dtype: object\n"
     ]
    }
   ],
   "source": [
    "print(\"Number of people that are having a credit card that will expire in 2020\")\n",
    "print(len(df_Cexp20))\n",
    "print(\"Email of people that are having a credit card that will expire in 2020\")\n",
    "print(df_Cexp20['Email'])"
   ]
  },
  {
   "cell_type": "markdown",
   "id": "a4567beb",
   "metadata": {
    "papermill": {
     "duration": 0.009391,
     "end_time": "2022-09-20T11:38:35.385682",
     "exception": false,
     "start_time": "2022-09-20T11:38:35.376291",
     "status": "completed"
    },
    "tags": []
   },
   "source": [
    "## Show the Top 5 email providers"
   ]
  },
  {
   "cell_type": "code",
   "execution_count": 21,
   "id": "cd203bfc",
   "metadata": {
    "execution": {
     "iopub.execute_input": "2022-09-20T11:38:35.409903Z",
     "iopub.status.busy": "2022-09-20T11:38:35.408962Z",
     "iopub.status.idle": "2022-09-20T11:38:35.426351Z",
     "shell.execute_reply": "2022-09-20T11:38:35.425095Z"
    },
    "papermill": {
     "duration": 0.034267,
     "end_time": "2022-09-20T11:38:35.429437",
     "exception": false,
     "start_time": "2022-09-20T11:38:35.395170",
     "status": "completed"
    },
    "tags": []
   },
   "outputs": [
    {
     "name": "stdout",
     "output_type": "stream",
     "text": [
      "Top 5 email providers are : \n"
     ]
    },
    {
     "data": {
      "text/plain": [
       "hotmail.com     1638\n",
       "yahoo.com       1616\n",
       "gmail.com       1605\n",
       "smith.com         42\n",
       "williams.com      37\n",
       "Name: Email, dtype: int64"
      ]
     },
     "execution_count": 21,
     "metadata": {},
     "output_type": "execute_result"
    }
   ],
   "source": [
    "# Finding top 5 Email providers\n",
    "print(\"Top 5 email providers are : \")\n",
    "ecom_data[\"Email\"].apply(lambda x: x.split('@')[1]).value_counts().head()"
   ]
  },
  {
   "cell_type": "markdown",
   "id": "e95c2db6",
   "metadata": {
    "papermill": {
     "duration": 0.009593,
     "end_time": "2022-09-20T11:38:35.448784",
     "exception": false,
     "start_time": "2022-09-20T11:38:35.439191",
     "status": "completed"
    },
    "tags": []
   },
   "source": [
    "## Print the Top 5 companies having the highest purchase prices"
   ]
  },
  {
   "cell_type": "code",
   "execution_count": 22,
   "id": "04e07c0a",
   "metadata": {
    "execution": {
     "iopub.execute_input": "2022-09-20T11:38:35.469973Z",
     "iopub.status.busy": "2022-09-20T11:38:35.469307Z",
     "iopub.status.idle": "2022-09-20T11:38:35.487137Z",
     "shell.execute_reply": "2022-09-20T11:38:35.486070Z"
    },
    "papermill": {
     "duration": 0.030614,
     "end_time": "2022-09-20T11:38:35.489347",
     "exception": false,
     "start_time": "2022-09-20T11:38:35.458733",
     "status": "completed"
    },
    "tags": []
   },
   "outputs": [
    {
     "name": "stdout",
     "output_type": "stream",
     "text": [
      "Top 5 companies having the highest purchase prices are: \n"
     ]
    },
    {
     "data": {
      "text/html": [
       "<div>\n",
       "<style scoped>\n",
       "    .dataframe tbody tr th:only-of-type {\n",
       "        vertical-align: middle;\n",
       "    }\n",
       "\n",
       "    .dataframe tbody tr th {\n",
       "        vertical-align: top;\n",
       "    }\n",
       "\n",
       "    .dataframe thead th {\n",
       "        text-align: right;\n",
       "    }\n",
       "</style>\n",
       "<table border=\"1\" class=\"dataframe\">\n",
       "  <thead>\n",
       "    <tr style=\"text-align: right;\">\n",
       "      <th></th>\n",
       "      <th>Company</th>\n",
       "      <th>Purchase Price</th>\n",
       "    </tr>\n",
       "  </thead>\n",
       "  <tbody>\n",
       "    <tr>\n",
       "      <th>2092</th>\n",
       "      <td>Pitts Group</td>\n",
       "      <td>99.99</td>\n",
       "    </tr>\n",
       "    <tr>\n",
       "      <th>7807</th>\n",
       "      <td>Porter, Johnson and Pratt</td>\n",
       "      <td>99.99</td>\n",
       "    </tr>\n",
       "    <tr>\n",
       "      <th>9856</th>\n",
       "      <td>Olson-Navarro</td>\n",
       "      <td>99.97</td>\n",
       "    </tr>\n",
       "    <tr>\n",
       "      <th>7604</th>\n",
       "      <td>Fitzpatrick Group</td>\n",
       "      <td>99.95</td>\n",
       "    </tr>\n",
       "    <tr>\n",
       "      <th>3844</th>\n",
       "      <td>King and Sons</td>\n",
       "      <td>99.93</td>\n",
       "    </tr>\n",
       "  </tbody>\n",
       "</table>\n",
       "</div>"
      ],
      "text/plain": [
       "                        Company  Purchase Price\n",
       "2092                Pitts Group           99.99\n",
       "7807  Porter, Johnson and Pratt           99.99\n",
       "9856              Olson-Navarro           99.97\n",
       "7604          Fitzpatrick Group           99.95\n",
       "3844              King and Sons           99.93"
      ]
     },
     "execution_count": 22,
     "metadata": {},
     "output_type": "execute_result"
    }
   ],
   "source": [
    "print(\"Top 5 companies having the highest purchase prices are: \")\n",
    "ecom_data[['Company','Purchase Price']].nlargest(5,'Purchase Price').head()"
   ]
  }
 ],
 "metadata": {
  "kernelspec": {
   "display_name": "Python 3",
   "language": "python",
   "name": "python3"
  },
  "language_info": {
   "codemirror_mode": {
    "name": "ipython",
    "version": 3
   },
   "file_extension": ".py",
   "mimetype": "text/x-python",
   "name": "python",
   "nbconvert_exporter": "python",
   "pygments_lexer": "ipython3",
   "version": "3.7.12"
  },
  "papermill": {
   "default_parameters": {},
   "duration": 10.025817,
   "end_time": "2022-09-20T11:38:36.221980",
   "environment_variables": {},
   "exception": null,
   "input_path": "__notebook__.ipynb",
   "output_path": "__notebook__.ipynb",
   "parameters": {},
   "start_time": "2022-09-20T11:38:26.196163",
   "version": "2.3.4"
  }
 },
 "nbformat": 4,
 "nbformat_minor": 5
}
