{
 "cells": [
  {
   "cell_type": "code",
   "execution_count": 1,
   "id": "ca970805",
   "metadata": {},
   "outputs": [
    {
     "name": "stdout",
     "output_type": "stream",
     "text": [
      "Name = Dev\n",
      "Division = 12-A\n",
      "Roll No. = 1      \n",
      "Marks\n",
      "English : 90\tMaths : 88\tComputer Science : 92      \n",
      "Percentage : 90.0\n"
     ]
    }
   ],
   "source": [
    "n = \"Dev\"\n",
    "div = \"12-A\"\n",
    "r_no = 1\n",
    "m_eng = 90\n",
    "m_math = 88\n",
    "m_comp = 92\n",
    "m_per = ((m_eng+m_math+m_comp)/300)*100\n",
    "print(f\"Name = {n}\\nDivision = {div}\\nRoll No. = {r_no}\\\n",
    "      \\nMarks\\nEnglish : {m_eng}\\tMaths : {m_math}\\tComputer Science : {m_comp}\\\n",
    "      \\nPercentage : {m_per}\")\n"
   ]
  },
  {
   "cell_type": "code",
   "execution_count": null,
   "id": "fa6d9bbf",
   "metadata": {},
   "outputs": [],
   "source": []
  }
 ],
 "metadata": {
  "kernelspec": {
   "display_name": "Python 3 (ipykernel)",
   "language": "python",
   "name": "python3"
  },
  "language_info": {
   "codemirror_mode": {
    "name": "ipython",
    "version": 3
   },
   "file_extension": ".py",
   "mimetype": "text/x-python",
   "name": "python",
   "nbconvert_exporter": "python",
   "pygments_lexer": "ipython3",
   "version": "3.10.6"
  }
 },
 "nbformat": 4,
 "nbformat_minor": 5
}
